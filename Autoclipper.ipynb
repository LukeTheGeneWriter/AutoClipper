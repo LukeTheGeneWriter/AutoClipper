{
  "cells": [
    {
      "cell_type": "markdown",
      "metadata": {
        "id": "view-in-github",
        "colab_type": "text"
      },
      "source": [
        "<a href=\"https://colab.research.google.com/github/LukeTheGeneWriter/AutoClipper/blob/main/Autoclipper.ipynb\" target=\"_parent\"><img src=\"https://colab.research.google.com/assets/colab-badge.svg\" alt=\"Open In Colab\"/></a>"
      ]
    },
    {
      "cell_type": "markdown",
      "source": [
        "Autoclipper -- Luke Williams 1/7/2025\n",
        "\n",
        "Near-turn key usage: just fill out the gene dictionary for the virus or other organism you are tracking. Here's the simple breakdown;\n",
        "\n",
        "Input: Directory of genomes and a dictionary of gene names with example sequences.\n",
        "Computation: Clips out genes from complete and partial genomes based on sequence homolgy to reference genes.\n",
        "Output: A file system organized by gene that contains a fasta file for each strain. The file contains all gene snippets for that strain. OutputDir > GeneNames > strain_name.fasta\n",
        "\n",
        "Tips: If you want to include the gene's promoter, make sure that is in the example dictionary."
      ],
      "metadata": {
        "id": "4XWGPaxDG21k"
      }
    },
    {
      "cell_type": "markdown",
      "metadata": {
        "id": "yPM-vFvaQjWR"
      },
      "source": [
        "Install packages"
      ]
    },
    {
      "cell_type": "code",
      "execution_count": null,
      "metadata": {
        "id": "Dqv03SQAlin9"
      },
      "outputs": [],
      "source": [
        "#Env\n",
        "!pip install -q condacolab\n",
        "import condacolab\n",
        "condacolab.install()"
      ]
    },
    {
      "cell_type": "code",
      "execution_count": null,
      "metadata": {
        "id": "MU-F9xmOVQ4G"
      },
      "outputs": [],
      "source": [
        "!pip install biopython\n",
        "!conda install -c bioconda pymummer"
      ]
    },
    {
      "cell_type": "markdown",
      "metadata": {
        "id": "wjMwAJSuQqQs"
      },
      "source": [
        "Imports and file system mount"
      ]
    },
    {
      "cell_type": "code",
      "execution_count": null,
      "metadata": {
        "id": "kzH6yaPGnJng",
        "colab": {
          "base_uri": "https://localhost:8080/"
        },
        "outputId": "e5097140-c6d3-4f36-99d8-91dcc4175c55"
      },
      "outputs": [
        {
          "output_type": "stream",
          "name": "stdout",
          "text": [
            "Drive already mounted at /content/drive; to attempt to forcibly remount, call drive.mount(\"/content/drive\", force_remount=True).\n",
            "'=1.2.0'                  GeneClasses.py                  md5sum.txt\n",
            "'=2.16.0'                 \u001b[0m\u001b[01;34mGeneLit\u001b[0m/                        muscle-linux-x86.v5.3\n",
            "'=2.2.0'                  Genewriter.AI.gdoc              prepData.ipynb\n",
            " \u001b[01;34m301Proj\u001b[0m/                 HerpetiQRmiRNAProposals.ipynb   \u001b[01;34m__pycache__\u001b[0m/\n",
            "'=3.7,'                   HerpetiQRpHMM.ipynb             README.md\n",
            "\u001b[01;34m'Colab Notebooks'\u001b[0m/        \u001b[01;34mHSV1AllelesHMM\u001b[0m/                 \u001b[01;34mRefGenes\u001b[0m/\n",
            " condacolab_install.log   \u001b[01;34mHSV1_Genomes\u001b[0m/                   \u001b[01;34msecondPassPlusEnergetics\u001b[0m/\n",
            " \u001b[01;34mDataForWill\u001b[0m/             \u001b[01;34mHSV1_Genomes_Strain\u001b[0m/            \u001b[01;34mWorkingFolders\u001b[0m/\n",
            " \u001b[01;34mexonTraining\u001b[0m/            \u001b[01;34mHSVReferenceGenome\u001b[0m/\n",
            " \u001b[01;34mfirstPassPlusSpliceAI\u001b[0m/   \u001b[01;34mintermediate\u001b[0m/\n",
            "[Errno 2] No such file or directory: 'drive'\n",
            "/content/drive/MyDrive\n",
            "[Errno 2] No such file or directory: 'MyDrive'\n",
            "/content/drive/MyDrive\n",
            "'=1.2.0'                  GeneClasses.py                  md5sum.txt\n",
            "'=2.16.0'                 \u001b[0m\u001b[01;34mGeneLit\u001b[0m/                        muscle-linux-x86.v5.3\n",
            "'=2.2.0'                  Genewriter.AI.gdoc              prepData.ipynb\n",
            " \u001b[01;34m301Proj\u001b[0m/                 HerpetiQRmiRNAProposals.ipynb   \u001b[01;34m__pycache__\u001b[0m/\n",
            "'=3.7,'                   HerpetiQRpHMM.ipynb             README.md\n",
            "\u001b[01;34m'Colab Notebooks'\u001b[0m/        \u001b[01;34mHSV1AllelesHMM\u001b[0m/                 \u001b[01;34mRefGenes\u001b[0m/\n",
            " condacolab_install.log   \u001b[01;34mHSV1_Genomes\u001b[0m/                   \u001b[01;34msecondPassPlusEnergetics\u001b[0m/\n",
            " \u001b[01;34mDataForWill\u001b[0m/             \u001b[01;34mHSV1_Genomes_Strain\u001b[0m/            \u001b[01;34mWorkingFolders\u001b[0m/\n",
            " \u001b[01;34mexonTraining\u001b[0m/            \u001b[01;34mHSVReferenceGenome\u001b[0m/\n",
            " \u001b[01;34mfirstPassPlusSpliceAI\u001b[0m/   \u001b[01;34mintermediate\u001b[0m/\n"
          ]
        }
      ],
      "source": [
        "from google.colab import drive\n",
        "drive.mount('/content/drive', force_remount = False)\n",
        "%ls\n",
        "%cd drive\n",
        "%cd MyDrive\n",
        "%ls\n",
        "\n",
        "import os\n",
        "import numpy as np\n",
        "from Bio import SeqIO\n",
        "from Bio.Seq import Seq\n",
        "from Bio.SeqRecord import SeqRecord\n",
        "import matplotlib.pyplot as plt\n",
        "import seaborn as sns\n",
        "import subprocess\n",
        "from dataclasses import dataclass\n",
        "from pymummer import coords_file, alignment, nucmer\n",
        "\n",
        "#Change these values to run!\n",
        "\n",
        "#Where do you want to construct the file system?\n",
        "dest_dir = \"Genes_By_Strain\"\n",
        "\n",
        "#Where are the genomes you are working with?\n",
        "genomes_dir = os.path.join(\"X\", \"Y\", \"Z\")\n",
        "\n",
        "#What is a good threshold value for the complete length of a genome?\n",
        "length_of_complete_genome = 150000\n",
        "#\n",
        "#Thanks! Now just scroll down to the gene dict and fill in your genes."
      ]
    },
    {
      "cell_type": "markdown",
      "metadata": {
        "id": "RtulUrNhQwM3"
      },
      "source": [
        "Functions - HSV Gene Template"
      ]
    },
    {
      "cell_type": "code",
      "source": [
        "@dataclass\n",
        "class MUMmerDelta:\n",
        "  #[S1]    [E1]    [S2]     [E2]     [LEN 1]   [LEN 2]   [% IDY]   [LEN R]   [LEN Q]   [COV R]   [COV Q]   [TAGS]\n",
        "  s1: int\n",
        "  e1: int\n",
        "  s2: int\n",
        "  e2: int\n",
        "  len1: int\n",
        "  len2: int\n",
        "  pct_idy: float\n",
        "  len_r: int\n",
        "  len_q: int\n",
        "  idk: int\n",
        "  refname: str\n",
        "  queryname: str"
      ],
      "metadata": {
        "id": "XSe5bhZGysSS"
      },
      "execution_count": null,
      "outputs": []
    },
    {
      "cell_type": "code",
      "execution_count": null,
      "metadata": {
        "id": "G2ECntsH5KAb"
      },
      "outputs": [],
      "source": [
        "# !!!!!!!!!!\n",
        "# Replace these example values. Make the table as big or as little as you like.\n",
        "\n",
        "def getGeneDict():\n",
        "  #Auto annotater\n",
        "  gene0 = \"AGCCCGGGCCCCGCGCGGCGGGCGTGGGGGGCGAGGAGCGGGGGGGAGGACGGCCGAGAGGCGCGGAGCGCCCGCCCACCCCCCCCGGCCGCCCTTCCCGCTTCCGGCAATTCCCGCGGCCCTTAATGGAGAGGGG\"\n",
        "  gene1 = \"ATGGGGATTTTGAACCGAATATGTTATTCGGAGGAGACCCCCTCCCTTTTGCCGCCAGCGCCCCGCCACAACCACTCCTCGTCGATGAATAAA\"\n",
        "  gene2 = \"ATGAAGCGGGCCCCGCGACGGGACGCCGCCACACCGGCCGCCTGGGGGGGCTGGCCGAAGTTTAAAGAACTGAGCGGCGGTGGGGGCTTTTGGGTATTTCCGATGAATAAA\"\n",
        "  gene3 = \"ATGTCGGGCGTCCGACACGCCAAACCACGAGTCGGCCCGGAACGACGAATGGGGCGTTCCGGGCCGCCTCCGGCCTCGGGGGCCGAGTAACCGCCCCCCCCCCATGCCACCCTCACTGCCCGTCGCGCGTGTTTGATGTTAATAAA\"\n",
        "  gene4 = \"TTTAATGGACCGTCCTAGGACCCCAAAAGTTTGCGGCCGTCCCCCGCGGTTGCTGTCCCTCAAAGGCATAGTGTGGATTGGACAT\"\n",
        "  gene5 = \"TTTAATGGACCGTCCTAGGACCCCAAAAGTTTGCGGCCGTCCCCCGCGGTTGCTGTCCCTCAAAGGCATATGCTTAAAATCGGGCCGGGTTTCTGTCCGTCTAGCTGGCGCTCCCCGCCGGCCGCCGCCAT\"\n",
        "  gene6 = \"ATGACCGCACCACGAGGACGGCTGGGTAAAGGTAACGTCGTCCGCCCGCGGCCCACGGGGCAGCGGGTTTCAGCTTTCAGCACCCGTACATTAGGAAATAAA\"\n",
        "  gene7 = \"ATGGCCGCCGCGCCGCAGCCTGGTCGAGGCGGCGCCACCAGCACAGTCCATTTGAGCTTCTGGGCTGCCCCCCTGCTGTTGTTGAATTTTAGGAAATAAA\"\n",
        "  gene8 = \"TTTATTGGTCAACTCGCCCCATACTCCCGCCAGGGCCGCGGGTGGGGGCAGCGTCCTCCCTGGCAGCCGGAGGCTTGTCCAT\"\n",
        "  gene9 = \"TTTATTGGTCAACTCGCCCCATACTCCCGCCAGGGCCGCGGGTGGGGGCAGCGTCCTCCCTGGCAGCCGGAGGCTTGTCCATCGCACGGCCCCTAAGGA\"\n",
        "\n",
        "  gene_dict = {\n",
        "    \"gene0\": gene0,    \"gene1\": gene1,    \"gene2\": gene2,    \"gene3\": gene3,\n",
        "    \"gene4\": gene4,    \"gene5\": gene5,    \"gene6\": gene6,    \"gene7\": gene7,\n",
        "    \"gene8\": gene8,    \"gene9\": gene9\n",
        "    }\n",
        "  return gene_dict"
      ]
    },
    {
      "cell_type": "markdown",
      "metadata": {
        "id": "eU2EK5cRQ894"
      },
      "source": [
        "Functions - automatic genome eater and classifier"
      ]
    },
    {
      "cell_type": "code",
      "execution_count": null,
      "metadata": {
        "id": "NH7rMxNy4HaA"
      },
      "outputs": [],
      "source": [
        "def autoClassifierPyMUMmer(geneRead, genedict, dest = dest_dir, inter_dir = \"intermediate\", lenpct_thresh = 0.85, id_thresh = 85):\n",
        "  if not os.path.exists(inter_dir):\n",
        "    os.makedirs(inter_dir)\n",
        "  results_file = os.path.join(inter_dir, \"results.delta\")\n",
        "  #Write the ref fasta\n",
        "  reference_file = os.path.join(inter_dir, \"reference.fasta\")\n",
        "  with open(reference_file, \"w\") as f:\n",
        "    SeqIO.write(geneRead[1], f, \"fasta\")\n",
        "  ret_dict = {k:[] for k in genedict.keys()}\n",
        "  best_classes = {}\n",
        "  for k in HSV1genedict.keys():\n",
        "    klen = len(genedict[k])\n",
        "    print(\"$$   \", k, \" klen: \", klen)\n",
        "    qrec = SeqRecord(seq=Seq(genedict[k]), id=k, name=\"Temp_Query_For_Autoclassifier_\"+k, description=\"See Name\")\n",
        "    #Write the query fasta\n",
        "    query_file = os.path.join(inter_dir, \"query.fasta\")\n",
        "    with open(query_file, \"w\") as f:\n",
        "      SeqIO.write(qrec, f, \"fasta\")\n",
        "    runner = nucmer.Runner(reference_file, query_file, results_file)\n",
        "    runner.run()\n",
        "    file_reader = coords_file.reader(results_file)\n",
        "    alignments = [coord for coord in file_reader if not coord.is_self_hit()] #Remove self hits\n",
        "    #take best alignment. We are defining the best alignment as the one with the best\n",
        "    #seq identity and the highest aligned length, divided by the query seq length.\n",
        "    #[S1]    [E1]    [S2]     [E2]     [LEN 1]   [LEN 2]   [% IDY]   [LEN R]   [LEN Q]   [COV R]   [COV Q]   [TAGS]\n",
        "    cls_list = []\n",
        "    best_class = None\n",
        "    for a in alignments:\n",
        "      a = str(a)\n",
        "      print(\"a: \", a)\n",
        "      fields = a.strip().split()  # Strip leading/trailing spaces and split by whitespace\n",
        "      if len(fields) == 12:# Check if there are enough fields before creating a MUMmerDelta object\n",
        "        cls = MUMmerDelta(int(fields[0]), int(fields[1]), int(fields[2]), int(fields[3]),\n",
        "                        int(fields[4]), int(fields[5]), float(fields[6]), int(fields[7]),\n",
        "                        int(fields[8]), int(fields[9]), str(fields[10]), str(fields[11]))\n",
        "      else:\n",
        "        print(\"Unexpected number of fields:\", len(fields))\n",
        "        raise NotImplementedError\n",
        "      cls_list.append(cls)\n",
        "      if best_class is None:\n",
        "        best_class = cls\n",
        "      elif cls.pct_idy*(abs(cls.s2-cls.e2)/klen) > best_class.pct_idy*(abs(best_class.s2-best_class.e2)/klen):\n",
        "        best_class = cls\n",
        "    #Take the best class and, if it is better than a threshold, take the coords of the\n",
        "    #alignment and clip out the subsequence from the generead. Put that seq in the ret_dict\n",
        "    if best_class != None and best_class.pct_idy > id_thresh and abs(best_class.s2-best_class.e2)/klen > lenpct_thresh:\n",
        "      print(\"___________________\")\n",
        "      print(\"s1: \", best_class.s1)\n",
        "      print(\"e1: \", best_class.e1)\n",
        "      print(\"s2: \", best_class.s2)\n",
        "      print(\"e2: \", best_class.e2)\n",
        "\n",
        "      gseg = str(geneRead[1].seq)\n",
        "      gseg = gseg[best_class.s1:best_class.e1]\n",
        "      vv = str(k) + \" gene from \" + str(geneRead[1].description)\n",
        "      print(vv)\n",
        "      print(\"Gseg: \", gseg)\n",
        "      if best_class.s2 < best_class.e2:    #forward\n",
        "        sr = SeqRecord(seq=Seq(gseg), id=geneRead[0], description=vv)\n",
        "      else:                                #reverse\n",
        "        ir = Seq(gseg)\n",
        "        inter = ir.reverse_complement()\n",
        "        sr = SeqRecord(seq=inter, id=geneRead[0], description=vv)\n",
        "      tuup = (geneRead[0], sr)\n",
        "      ret_dict[k].append(tuup)\n",
        "      best_classes[k] = best_class\n",
        "    else:\n",
        "      continue\n",
        "    #clear classes in cls_list and then empty list\n",
        "    for c in cls_list:\n",
        "      del c\n",
        "    cls_list = []\n",
        "\n",
        "  #plot the pct id of each best_class in best_classes\n",
        "  #ks = []\n",
        "  #vals = []\n",
        "  #for k in best_classes.keys():\n",
        "  #  ks.append(k)\n",
        "  #  vals.append(best_classes[k].pct_idy)\n",
        "  #sns.barplot(x=ks, y=vals)\n",
        "  #raise NotImplementedError\n",
        "  return ret_dict"
      ]
    },
    {
      "cell_type": "markdown",
      "metadata": {
        "id": "PuoBBFoXRHVy"
      },
      "source": [
        "Make the directory if it isn't already there"
      ]
    },
    {
      "cell_type": "code",
      "execution_count": null,
      "metadata": {
        "id": "Ek_0ZoVixMfw"
      },
      "outputs": [],
      "source": [
        "if not os.path.exists(dest_dir):\n",
        "  os.mkdir(dest_dir)\n",
        "\n",
        "#Plugin feature for later versions: isolate characterization into strains by external tool\n",
        "strain_list = []\n",
        "iso_list = []"
      ]
    },
    {
      "cell_type": "markdown",
      "metadata": {
        "id": "Fr8wo9EcRPrR"
      },
      "source": [
        "Break gene dictionary into components and save into the file system"
      ]
    },
    {
      "cell_type": "code",
      "execution_count": null,
      "metadata": {
        "id": "-vpdnhVXnU2s"
      },
      "outputs": [],
      "source": [
        "def saver(gene_dict, dest = dest_dir):\n",
        "  if not os.path.exists(dest):\n",
        "    os.makedirs(dest)\n",
        "  for gne in gene_dict.keys():\n",
        "    if not gene_dict[gne]:\n",
        "      continue\n",
        "    os.makedirs(os.path.join(dest, gne), exist_ok=True)\n",
        "    strains, seqs = zip(*[(x[0], x[1]) for x in gene_dict[gne]])\n",
        "    assert len(strains) == len(seqs)\n",
        "    #Need to run the aligner to snip out specific genes\n",
        "    if gne == \"CompleteGenomes\" or gne == \"UnlabeledGenomes\":\n",
        "      #continue\n",
        "      #get new gene_dict by calling autoClassifier on the complete genome\n",
        "      for tup in gene_dict[gne]:\n",
        "        gd = autoClassifierPyMUMmer(tup, getGeneDict(), dest)\n",
        "        saver(gd, dest)\n",
        "    #Trust the label\n",
        "    else:\n",
        "      for i in range(len(strains)):\n",
        "        strain = strains[i]\n",
        "        seq = seqs[i]\n",
        "        fin = strain + \".fasta\"\n",
        "        pth = os.path.join(dest, gne, fin)\n",
        "        oneback = os.path.join(dest, gne)\n",
        "        #If no file exists\n",
        "        if not os.path.exists(oneback):\n",
        "          os.mkdir(oneback)\n",
        "          #Save seq to the gene/strain folder\n",
        "          try:\n",
        "            with open(pth, 'w') as f:\n",
        "              SeqIO.write(seq, f, 'fasta')\n",
        "          except AttributeError:\n",
        "            seq.id = 1\n",
        "            with open(pth, \"w\") as f:\n",
        "              SeqIO.write(seq, f, 'fasta')\n",
        "        #If one does, save to it\n",
        "        else:\n",
        "          try:\n",
        "            with open(pth, \"a\") as f:\n",
        "              SeqIO.write(seq, f, 'fasta')\n",
        "          except AttributeError:\n",
        "            seq.id = \"1\"\n",
        "            with open(pth, \"a\") as f:\n",
        "              SeqIO.write(seq, f, 'fasta')\n",
        "      gene_dict[gne] = []\n",
        "\n",
        "    try:\n",
        "      for tup in gene_dict[\"UnlabledGenomes\"]:\n",
        "        gd = autoClassifierPyMUMmer(tup, getGeneDict(), dest)\n",
        "        saver(gd, dest)\n",
        "      gene_dict[\"UnlabledGenomes\"] = []\n",
        "    except KeyError:\n",
        "      pass\n",
        "\n",
        "    try:\n",
        "      for tup in gene_dict[\"CompleteGenomes\"]:\n",
        "        gd = autoClassifierPyMUMmer(tup, getGeneDict(), dest)\n",
        "        saver(gd, dest)\n",
        "      gene_dict[\"CompleteGenomes\"] = []\n",
        "    except KeyError:\n",
        "      pass\n",
        "\n",
        "\n",
        "\n",
        "def getStrain(d: str, slist: list, isolist: list):\n",
        "  if \"STRAIN\" in d.upper():\n",
        "    before = d.upper().split(\"STRAIN\")[0]\n",
        "    after = d.upper().split(\"STRAIN\")[1]\n",
        "    try:\n",
        "      if after[0] == \" \":\n",
        "        after = after[1:]\n",
        "    except IndexError:\n",
        "      return \"UNKNOWN_STRAIN\"\n",
        "    if \",\" in after:\n",
        "      ay = after.split(\",\")[0]\n",
        "      az = ay.split(\" \")[0]\n",
        "      if az.upper() == \"HSV1\":\n",
        "        az = ay.split(\" \")[1]\n",
        "        slist.append(az)\n",
        "        return az\n",
        "      else:\n",
        "        slist.append(az)\n",
        "        return az\n",
        "    else:\n",
        "      return after.split(\" \")[0]\n",
        "\n",
        "  elif \"ISOLATE\" in d.upper():\n",
        "    before = d.upper().split(\"ISOLATE\")[0]\n",
        "    after = d.upper().split(\"ISOLATE\")[1]\n",
        "    try:\n",
        "      if after[0] == \" \":\n",
        "        after = after[1:]\n",
        "    except IndexError:\n",
        "      return \"UNKNOWN_STRAIN\"\n",
        "    if \",\" in after:\n",
        "      ay = after.split(\",\")[0]\n",
        "      az = ay.split(\" \")[0]\n",
        "      if az.upper() == \"HSV1\":\n",
        "        az = ay.split(\" \")[1]\n",
        "        isolist.append(az)\n",
        "        return az\n",
        "      else:\n",
        "        isolist.append(az)\n",
        "        return az\n",
        "    else:\n",
        "      return after.split(\" \")[0]\n",
        "\n",
        "  else:\n",
        "    return \"UNKNOWN_STRAIN\"\n",
        "\n",
        "\n",
        "def cleanStrain(d: str):\n",
        "  gtable = getHSV1GeneDict()\n",
        "  for k in gtable.keys():\n",
        "    if k in d:\n",
        "      d = d.replace(k, \"\")\n",
        "  if \"/\" in d:\n",
        "    d = d.replace(\"/\", \"_\")\n",
        "  if \" \" in d:\n",
        "    d = d.replace(\" \", \"_\")\n",
        "  d = d.replace(\".\", \"_\")\n",
        "  if d[0] == \"-\":\n",
        "    d = d[1:]\n",
        "  if d[0] == \"_\":\n",
        "    d = d[1:]\n",
        "  if d[0] == \":\":\n",
        "    d = d[1:]\n",
        "  if d == \"\":\n",
        "    d = \"UNKNOWN_STRAIN\"\n",
        "  if d[-1] == \"_\":\n",
        "    d = d[:-1]\n",
        "  if \"(\" in d:\n",
        "    d = d.replace(\"(\", \"\")\n",
        "  if \")\" in d:\n",
        "    d = d.replace(\")\", \"\")\n",
        "  if d == \"\":\n",
        "    d = \"UNKNOWN_STRAIN\"\n",
        "  return d"
      ]
    },
    {
      "cell_type": "markdown",
      "metadata": {
        "id": "3it7PvChStBs"
      },
      "source": [
        "Process Program - Approach 1"
      ]
    },
    {
      "cell_type": "code",
      "execution_count": null,
      "metadata": {
        "id": "spCX6StAxCpD"
      },
      "outputs": [],
      "source": [
        "#Approach 1: Strain naiive / trust the label\n",
        "#This can be refined by running a seperate script on the genomes directory and classifiying isolates into strain.\n",
        "\n",
        "records = SeqIO.parse(genomes_dir)\n",
        "#For each seqRecord in records, isolate strain and seq\n",
        "for r in records:\n",
        "  gene_table = {[x:[] for x in getGeneDict().keys()]}\n",
        "  gene_table[\"CompleteGenomes\"] = []\n",
        "  gene_table[\"UnlabledGenomes\"] = []\n",
        "\n",
        "  cc = cleanStrain(getStrain(str(r.description), strain_list, iso_list))\n",
        "  print(cc)\n",
        "\n",
        "  if len(r.seq) > length_of_complete_genome:\n",
        "    gene_table[\"CompleteGenomes\"].append((cc,r))\n",
        "    saver(gene_table, dest=dest_dir)\n",
        "    continue\n",
        "  swich = False\n",
        "  for k in gene_table.keys():\n",
        "    if k.upper() in r.description.upper():\n",
        "      swich = True\n",
        "      gene_table[k].append((cc,r))\n",
        "      saver(gene_table, dest=dest_dir)\n",
        "      #continue    #Don't continue because some records contain multiple genes\n",
        "  if not swich:\n",
        "    gene_table[\"UnlabledGenomes\"].append((cc,r))\n",
        "    saver(gene_table, dest=dest_dir)"
      ]
    }
  ],
  "metadata": {
    "colab": {
      "provenance": [],
      "authorship_tag": "ABX9TyOSMmF+wx+DO26IsAJcvlK6",
      "include_colab_link": true
    },
    "kernelspec": {
      "display_name": "Python 3",
      "name": "python3"
    },
    "language_info": {
      "name": "python"
    }
  },
  "nbformat": 4,
  "nbformat_minor": 0
}